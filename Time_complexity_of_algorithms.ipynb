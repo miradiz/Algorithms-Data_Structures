{
 "cells": [
  {
   "cell_type": "markdown",
   "metadata": {},
   "source": [
    "## Time Complexity of Algorithms"
   ]
  },
  {
   "cell_type": "markdown",
   "metadata": {},
   "source": [
    "These are my notes on Time Complexity of Algorithms.\n",
    "\n",
    "\n",
    "An algorithm is a program or function that solves some specific problem. For example, a sorting algorithm is an algorithm that, given a list of values, outputs that same list of values but rearranges them in increasing (or decreasing) order.\n",
    "\n",
    "For any given problem, there are numerous ways to write an algorithm that solves it. In this course, you'll learn how to compare these algorithms and find the one that will perform the best.\n",
    "\n",
    "(c) Miradiz Rakhmatov"
   ]
  },
  {
   "cell_type": "code",
   "execution_count": 2,
   "metadata": {},
   "outputs": [
    {
     "data": {
      "text/plain": [
       "6"
      ]
     },
     "execution_count": 2,
     "metadata": {},
     "output_type": "execute_result"
    }
   ],
   "source": [
    "## Write a maximum function\n",
    "\n",
    "def maximum(values):\n",
    "    answer = None\n",
    "    for i in values:\n",
    "        if answer == None or answer < i:\n",
    "            answer = i\n",
    "    return answer\n",
    "\n",
    "maximum([4, 3, 5, 6, 2, 1])"
   ]
  },
  {
   "cell_type": "markdown",
   "metadata": {},
   "source": [
    "Let's see how this function works in a graph. Intuitively, the more data an algorithm needs to process, the more time it will take to run. What we are interested in is building a model that tells us by how much the execution time grows as we increase the amount of data. We call these models the time complexity of an algorithm.\n",
    "\n",
    "![](data/real_vs_model.png)"
   ]
  },
  {
   "cell_type": "markdown",
   "metadata": {},
   "source": [
    "We can see that as the data increases, so does the execution time. This is not surprising since there is more data to process. However, this tells us more. It gives us an insight on the rate at which it is increasing. The red line is a straight line, which means that the time is growing somewhat proportionally with the data.\n",
    "\n",
    "This is good news because it means that the execution time grows at the same rate as the data. Doubling the amount of data will double the amount of time needed to process it.\n",
    "\n",
    "The purpose of this lesson is to learn how to look at an algorithm and derive a mathematical expression for the red line. As mentioned before, we call such an expression the time complexity of the algorithm:"
   ]
  },
  {
   "cell_type": "code",
   "execution_count": 26,
   "metadata": {},
   "outputs": [],
   "source": [
    "# A function to sum values in an array\n",
    "def sum_values(values):\n",
    "    total = 0            # c1, 1 time\n",
    "    for value in values: # c2, N times\n",
    "        total += value   # c3, N times\n",
    "    return total         # c4, 1 time\n",
    "\n",
    "## c1 + c2*N + c3*N + c4 = N(c2 + c3) + (c1 + c4)\n",
    "## we can denote (c2 + c3) as a and (c1 + c4) as b ->  aN + b -> linear time algorithm "
   ]
  },
  {
   "cell_type": "code",
   "execution_count": null,
   "metadata": {},
   "outputs": [],
   "source": [
    "## A function to find the maximum value in an array \n",
    "def maximum(values):\n",
    "    answer = None                            # c1, 1 time,  c1\n",
    "    for value in values:                     # c2, N times, c2*N\n",
    "        if answer == None or answer < value: # c3, N times, c3*N\n",
    "            answer = value                   # c4, N times, c4*N\n",
    "    return answer                            # c5, 1 time,  c5"
   ]
  },
  {
   "cell_type": "code",
   "execution_count": null,
   "metadata": {},
   "outputs": [],
   "source": [
    "## A function to count number of zeros in array of values\n",
    "def count_zeros(values):\n",
    "    count = 0            # c1 * 1 = c1\n",
    "    for value in values: # c2 * N = c2*N\n",
    "        if value == 0:   # c3 * N = c3*N\n",
    "            count += 1   # c4 * N = c4*N\n",
    "    return count         # c5 * 1 = c5\n",
    "\n",
    "## c1 + c2*N + c3*N + c4*N + c5 = (c1+ c5) + (c2 + c3 + c4)*N  ->  a*N + b -> linear time algorithm "
   ]
  },
  {
   "cell_type": "markdown",
   "metadata": {},
   "source": [
    "We say that the first is a worst-case execution analysis and the latter a best-case execution analysis. When building a model for the execution time of an algorithm, we often focus on the worst case. There a few reasons for doing so:\n",
    "\n",
    "1. We usually want to process data from a lot of different sources and, consequently, it turns out that the worst-case actually occurs quite often.\n",
    "2. It provides an upper bound. By focusing on the worst-case when building the execution time model, we can guarantee that the executions times will always behave at most as badly as the models predicts. Imagine that you are selling an algorithm that 1% of the time takes one second, and 99% takes over one year. If you advertise it as taking one second (best case), your customers will not be very pleased."
   ]
  },
  {
   "cell_type": "markdown",
   "metadata": {},
   "source": [
    "So far, all the concrete functions that we analyzed had an execution time model that was linear, that is, of the form aN + b. Let's see an example where this is not the case. Consider the following zero_sum() function that counts the number of pairs of indexes whose values add up to 0."
   ]
  },
  {
   "cell_type": "code",
   "execution_count": 28,
   "metadata": {},
   "outputs": [],
   "source": [
    "## A function that counts the number of pairs of indexes whose values add up to 0.\n",
    "def zero_sum(values):\n",
    "    N = len(values)                        # c1, 1 time                     \n",
    "    count = 0                              # c2, 1 time\n",
    "    for i in range(N):                     # c3, N times\n",
    "        for j in range(N):                 # c4, N^2 times\n",
    "            if values[i] + values[j] == 0: # c5, N^2 times\n",
    "                count += 1                 # c6, N^2 times\n",
    "    return count                           # c7, 1 time\n",
    "## a*N^2 + b*N + c -> quadratic model"
   ]
  },
  {
   "cell_type": "code",
   "execution_count": null,
   "metadata": {},
   "outputs": [],
   "source": [
    "## A function that sums values in pairs\n",
    "def sum_pairs(values):\n",
    "    pair_sums = 0              # c1  c1            \n",
    "    for x in values:           # c2  c2*N  \n",
    "        for y in values:       # c3  c3*N*N  \n",
    "            pair_sums += x + y # c4  c4*N*N\n",
    "    return pair_sums           # c5  c5\n",
    "\n",
    "## c1 + c2*N + c3*N^2 + c4*N^3 + c5 = (c1+c5) + c2*N + (c3 + c4)N^2 -> a*N^2 + b*N + c"
   ]
  },
  {
   "cell_type": "markdown",
   "metadata": {},
   "source": [
    "Before we take the next step, let's make sure we understand why the for loop on j and inner lines are executed N2 times. By itself, the for loop on j is executed N times since it loops over N values. However, it is wrapped inside the for loop on i, which is also executed N times. Therefore, the total number of executions of the line containing the for loop on j is N × N = N^2.\n",
    "\n",
    "A general rule of thumb is that a for loop inside another will be executed N^2 times, a for loop inside two others will be executed N^3 times, and so on."
   ]
  },
  {
   "cell_type": "markdown",
   "metadata": {},
   "source": [
    "So far, we have analyzed algorithms with only a few lines of code, so the calculations did not get extremely complex. However, as algorithms become more complicated, this process can become quite complex and cumbersome.\n",
    "\n",
    "Moreover, remember that we are only interested in seeing how much the execution time grows as data grows, not the exact execution time. With this in mind, we can simplify our analysis even further by dropping unnecessary information.\n",
    "\n",
    "1. Drop the line constants\n",
    "\n",
    "In the previous screens, we started by assigning to each line of code a different constant expressing the time that line needs to execute. However, we only care about whether our final expression looks like aN + b (linear time complexity) or aN^2 + bN + c (quadratic time complexity).\n",
    "\n",
    "The exact values of a, b and c do not matter. What matters is whether we have a N^2 term or not.\n",
    "\n",
    "1 + N + N + N + 1 = 3N + 2  \n",
    "\n",
    "2. Keep only the most significant term\n",
    "\n",
    "The next simplification step is to keep only the most significant term. By significant here, we mean the one that is growing the fastest. In the above expression we have two terms 3N and 2. The fastest-growing term is 3N since 2 is a constant. Another way to see this is that, as N becomes very big, adding 2 or not becomes less and less relevant because the value of 3N is so large when compared to 2.\n",
    "\n",
    "3N + 2 --> 3N \n",
    "\n",
    "3. Drop the constant coefficient\n",
    "\n",
    "3N --> N\n",
    "\n",
    "Also, we should take the higest exponent from the model:\n",
    "\n",
    "N^3 + 5N^2 + 17N --> N^3\n",
    "\n",
    "![](data/times.png)\n",
    "\n",
    "\n",
    "### We denote a function whose simplification steps result in N by O(N). We say the function is order of N or O of N. In other words, a linear-time algorithm is an algorithm with time complexity O(N)."
   ]
  },
  {
   "cell_type": "code",
   "execution_count": 30,
   "metadata": {},
   "outputs": [],
   "source": [
    "## A function to count minimum and maximum values of a given array\n",
    "def min_max1(values):\n",
    "    minimum = None                             # 1\n",
    "    maximum = None                             # 1\n",
    "    for value in values:                       # N\n",
    "        if minimum == None or value < minimum: # N\n",
    "            minimum = value                    # N\n",
    "        if maximum == None or value > maximum: # N\n",
    "            maximum = value                    # N\n",
    "    return minimum, maximum                    # 1\n",
    "## O(N)"
   ]
  },
  {
   "cell_type": "markdown",
   "metadata": {},
   "source": [
    "![](data/linear_quadratic_complexity.png)"
   ]
  },
  {
   "cell_type": "code",
   "execution_count": null,
   "metadata": {},
   "outputs": [],
   "source": []
  }
 ],
 "metadata": {
  "kernelspec": {
   "display_name": "Python 3",
   "language": "python",
   "name": "python3"
  },
  "language_info": {
   "codemirror_mode": {
    "name": "ipython",
    "version": 3
   },
   "file_extension": ".py",
   "mimetype": "text/x-python",
   "name": "python",
   "nbconvert_exporter": "python",
   "pygments_lexer": "ipython3",
   "version": "3.8.5"
  }
 },
 "nbformat": 4,
 "nbformat_minor": 4
}
