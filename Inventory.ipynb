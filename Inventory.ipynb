{
 "cells": [
  {
   "cell_type": "markdown",
   "metadata": {},
   "source": [
    "## Laptop inventory:\n",
    "\n",
    "In this project, I will be using a different types of algorithms for performing the same operations. I will examine time complexities such as constant, logarithmic, linear, and quadratic. I will compare all of them and find the right algorithm for a specific task. The data I will be using is a laptop inventory. Each row contains information about a specific laptop.\n",
    "\n",
    "(c) Miradiz Rakhmatov"
   ]
  },
  {
   "cell_type": "code",
   "execution_count": 1,
   "metadata": {},
   "outputs": [],
   "source": [
    "import csv\n",
    "import time\n",
    "import random"
   ]
  },
  {
   "cell_type": "code",
   "execution_count": 2,
   "metadata": {},
   "outputs": [],
   "source": [
    "class Inventory:\n",
    "    \n",
    "## Attributes:\n",
    "\n",
    "    def __init__(self, csv_file):\n",
    "\n",
    "        self.rows_list = list()\n",
    "        self.rows_dict = dict()\n",
    "        self.selling_price = set()\n",
    "        \n",
    "        ## Extract data from csv file and load it into above containers:\n",
    "        with open(csv_file) as f:\n",
    "            data = csv.reader(f)\n",
    "            first = next(f)\n",
    "            self.header = first.split(',')  ## header attribute with column names \n",
    "            for row in data:\n",
    "                row[0] = int(row[0])       ## transform ID column into integer\n",
    "                row[-1] = int(row[-1])     ## transfrom Price column into integer\n",
    "                \n",
    "                self.rows_list.append(row)    ## populate the rows_list with each row\n",
    "                self.rows_dict[row[0]] = row[1:]  ## populate the rows_dict with ID as key and the rest as values \n",
    "                self.selling_price.add(row[-1])   ## populate the selling_price set() with just laptop prices \n",
    "        \n",
    "        ## rows_sorted attribute with the rows sorted by the ID \n",
    "        ## Will be used for binary search\n",
    "        self.rows_sorted = sorted(self.rows_list, key=lambda row: row[0])\n",
    "        \n",
    "## Methods:\n",
    "    \n",
    "    ## 1) Given the laptop id, find the corresponding laptop information\n",
    "    \n",
    "    ## O(1) constant time complexity\n",
    "    ## Retrieving from the dictionary (very fast)\n",
    "    def get_from_dict(self, laptop_id):\n",
    "        if laptop_id in self.rows_dict:\n",
    "            return self.rows_dict[laptop_id]\n",
    "        return -1\n",
    "    \n",
    "    \n",
    "    ## O(log(N)) logarithmic time complexity \n",
    "    def get_from_binary(self, laptop_id):  \n",
    "        start = 0\n",
    "        end = len(self.rows_sorted) - 1\n",
    "        \n",
    "        while start < end:\n",
    "            middle = (start + end) // 2\n",
    "            \n",
    "            if self.rows_sorted[middle][0] == laptop_id:\n",
    "                return self.rows_sorted[middle]\n",
    "            elif self.rows_sorted[middle][0] < laptop_id:\n",
    "                start = middle + 1\n",
    "            else:\n",
    "                end = middle - 1\n",
    "        if self.rows_sorted[start][0] != laptop_id:\n",
    "            return -1\n",
    "        return self.rows_sorted[start]\n",
    "    \n",
    "    \n",
    "    ## O(N) Linear time complexity\n",
    "    ## Iterate each element in the list (very slow)\n",
    "    def get_from_list(self, laptop_id):\n",
    "        for row in self.rows_list:\n",
    "            if laptop_id == row[0]:\n",
    "                return row\n",
    "        return -1\n",
    "    \n",
    "    \n",
    "    ## 2) Given the gift card value, return True if there is a combination of two laptops that a customer can get\n",
    "    ##    One laptop can be equal to gift card value\n",
    "    ##    Sum of combination of laptops or a single laptop's price should be equal to gift card value\n",
    "    \n",
    "\n",
    "    ##  O(N^2) quadratic time complexity (super slow)  \n",
    "    def check_promotion_giftcard(self, gift_value):\n",
    "        for row in self.rows_list:          ## if there is one laptop with the given price then show it\n",
    "            if gift_value == row[-1]:\n",
    "                return True\n",
    "        \n",
    "        N = len(self.rows_list)     ## show two laptos whose sum is equal to the given price        \n",
    "        for i in range(N):          \n",
    "            for j in range(i, N):  ## (i, N) means that customer can buy two of the same laptops if the sum = target\n",
    "                sum_of_two = self.rows_list[i][-1] + self.rows_list[j][-1] \n",
    "                if sum_of_two == gift_value:\n",
    "                    return True  #return self.rows_list[i], self.rows_list[j] \n",
    "        return False\n",
    "   \n",
    "\n",
    "    ##  O(N) linear time complexity (better than previous)\n",
    "    ##  Searching laptop price in a set instead of a list\n",
    "    def check_promotion_giftcard_fast(self, gift_value):\n",
    "        if gift_value in self.selling_price:\n",
    "            return True\n",
    "        \n",
    "        for price_1 in self.selling_price:\n",
    "            price_2 = gift_value - price_1\n",
    "            if price_2 in self.selling_price:\n",
    "                return True      # return price_1, price_2\n",
    "        return False"
   ]
  },
  {
   "cell_type": "code",
   "execution_count": 3,
   "metadata": {},
   "outputs": [],
   "source": [
    "inv = Inventory('laptops.csv')"
   ]
  },
  {
   "cell_type": "code",
   "execution_count": 4,
   "metadata": {},
   "outputs": [
    {
     "name": "stdout",
     "output_type": "stream",
     "text": [
      "There are 1303 laptops in the inventory\n"
     ]
    }
   ],
   "source": [
    "print('There are {} laptops in the inventory'.format(len(inv.rows_list)))"
   ]
  },
  {
   "cell_type": "code",
   "execution_count": 5,
   "metadata": {
    "scrolled": true
   },
   "outputs": [
    {
     "name": "stdout",
     "output_type": "stream",
     "text": [
      "[6571244, 'Apple', 'MacBook Pro', 'Ultrabook', '13.3', 'IPS Panel Retina Display 2560x1600', 'Intel Core i5 2.3GHz', '8GB', '128GB SSD', 'Intel Iris Plus Graphics 640', 'macOS', '1.37kg', 1339]\n",
      "[7287764, 'Apple', 'Macbook Air', 'Ultrabook', '13.3', '1440x900', 'Intel Core i5 1.8GHz', '8GB', '128GB Flash Storage', 'Intel HD Graphics 6000', 'macOS', '1.34kg', 898]\n",
      "[3362737, 'HP', '250 G6', 'Notebook', '15.6', 'Full HD 1920x1080', 'Intel Core i5 7200U 2.5GHz', '8GB', '256GB SSD', 'Intel HD Graphics 620', 'No OS', '1.86kg', 575]\n",
      "[9722156, 'Apple', 'MacBook Pro', 'Ultrabook', '15.4', 'IPS Panel Retina Display 2880x1800', 'Intel Core i7 2.7GHz', '16GB', '512GB SSD', 'AMD Radeon Pro 455', 'macOS', '1.83kg', 2537]\n",
      "[8550527, 'Apple', 'MacBook Pro', 'Ultrabook', '13.3', 'IPS Panel Retina Display 2560x1600', 'Intel Core i5 3.1GHz', '8GB', '256GB SSD', 'Intel Iris Plus Graphics 650', 'macOS', '1.37kg', 1803]\n",
      "[8529462, 'Acer', 'Aspire 3', 'Notebook', '15.6', '1366x768', 'AMD A9-Series 9420 3GHz', '4GB', '500GB HDD', 'AMD Radeon R5', 'Windows 10', '2.1kg', 400]\n",
      "[1450726, 'Apple', 'MacBook Pro', 'Ultrabook', '15.4', 'IPS Panel Retina Display 2880x1800', 'Intel Core i7 2.2GHz', '16GB', '256GB Flash Storage', 'Intel Iris Pro Graphics', 'Mac OS X', '2.04kg', 2139]\n",
      "[3824690, 'Apple', 'Macbook Air', 'Ultrabook', '13.3', '1440x900', 'Intel Core i5 1.8GHz', '8GB', '256GB Flash Storage', 'Intel HD Graphics 6000', 'macOS', '1.34kg', 1158]\n",
      "[9217974, 'Asus', 'ZenBook UX430UN', 'Ultrabook', '14', 'Full HD 1920x1080', 'Intel Core i7 8550U 1.8GHz', '16GB', '512GB SSD', 'Nvidia GeForce MX150', 'Windows 10', '1.3kg', 1495]\n",
      "[9202701, 'Acer', 'Swift 3', 'Ultrabook', '14', 'IPS Panel Full HD 1920x1080', 'Intel Core i5 8250U 1.6GHz', '8GB', '256GB SSD', 'Intel UHD Graphics 620', 'Windows 10', '1.6kg', 770]\n"
     ]
    }
   ],
   "source": [
    "## Let's have a look at 10 rows (laptops)\n",
    "for i in inv.rows_list[:10]:\n",
    "    print(i)"
   ]
  },
  {
   "cell_type": "markdown",
   "metadata": {},
   "source": [
    "### Let's searching for a laptop by its ID:\n",
    "\n",
    "* From dictionary\n",
    "* From list using binary search\n",
    "* From list using by iterating each element"
   ]
  },
  {
   "cell_type": "code",
   "execution_count": 6,
   "metadata": {},
   "outputs": [
    {
     "data": {
      "text/plain": [
       "['Acer',\n",
       " 'Aspire 3',\n",
       " 'Notebook',\n",
       " '15.6',\n",
       " '1366x768',\n",
       " 'AMD A9-Series 9420 3GHz',\n",
       " '4GB',\n",
       " '500GB HDD',\n",
       " 'AMD Radeon R5',\n",
       " 'Windows 10',\n",
       " '2.1kg',\n",
       " 400]"
      ]
     },
     "execution_count": 6,
     "metadata": {},
     "output_type": "execute_result"
    }
   ],
   "source": [
    "## from dictionary O(1)\n",
    "inv.get_from_dict(8529462)"
   ]
  },
  {
   "cell_type": "code",
   "execution_count": 7,
   "metadata": {},
   "outputs": [
    {
     "data": {
      "text/plain": [
       "[8529462,\n",
       " 'Acer',\n",
       " 'Aspire 3',\n",
       " 'Notebook',\n",
       " '15.6',\n",
       " '1366x768',\n",
       " 'AMD A9-Series 9420 3GHz',\n",
       " '4GB',\n",
       " '500GB HDD',\n",
       " 'AMD Radeon R5',\n",
       " 'Windows 10',\n",
       " '2.1kg',\n",
       " 400]"
      ]
     },
     "execution_count": 7,
     "metadata": {},
     "output_type": "execute_result"
    }
   ],
   "source": [
    "## from a list using binary search O(log(N))\n",
    "inv.get_from_binary(8529462)"
   ]
  },
  {
   "cell_type": "code",
   "execution_count": 8,
   "metadata": {},
   "outputs": [
    {
     "data": {
      "text/plain": [
       "[8529462,\n",
       " 'Acer',\n",
       " 'Aspire 3',\n",
       " 'Notebook',\n",
       " '15.6',\n",
       " '1366x768',\n",
       " 'AMD A9-Series 9420 3GHz',\n",
       " '4GB',\n",
       " '500GB HDD',\n",
       " 'AMD Radeon R5',\n",
       " 'Windows 10',\n",
       " '2.1kg',\n",
       " 400]"
      ]
     },
     "execution_count": 8,
     "metadata": {},
     "output_type": "execute_result"
    }
   ],
   "source": [
    "## from a list O(N)\n",
    "inv.get_from_list(8529462)"
   ]
  },
  {
   "cell_type": "markdown",
   "metadata": {},
   "source": [
    "## Let's look at how much time it takes perfom each operation:\n",
    "\n",
    "I will create 10000 randon IDs between 1000000 and 9999999 and loop through each of them to estimate how long it took to perform the whole operation. While time complexity is measured by the coefficient, calculating time in milliseconds  can still show the difference in execution of different methods."
   ]
  },
  {
   "cell_type": "code",
   "execution_count": 9,
   "metadata": {},
   "outputs": [],
   "source": [
    "## Creating random IDs and prices \n",
    "ids = [random.randint(1000000, 9999999) for _ in range(10000)]"
   ]
  },
  {
   "cell_type": "code",
   "execution_count": 10,
   "metadata": {},
   "outputs": [
    {
     "name": "stdout",
     "output_type": "stream",
     "text": [
      "Dictionary lookup took 0.003588438034057617 seconds\n"
     ]
    }
   ],
   "source": [
    "dict_retrival = 0\n",
    "for i in ids:\n",
    "    start = time.time()   \n",
    "    inv.get_from_dict(i)     \n",
    "    end = time.time()  \n",
    "    diff = end - start\n",
    "    dict_retrival += diff \n",
    "print(\"Dictionary lookup took {} seconds\".format(dict_retrival))"
   ]
  },
  {
   "cell_type": "code",
   "execution_count": 11,
   "metadata": {},
   "outputs": [
    {
     "name": "stdout",
     "output_type": "stream",
     "text": [
      "Binary searching from a list took 0.0396420955657959 seconds\n"
     ]
    }
   ],
   "source": [
    "binary_retrival = 0\n",
    "for i in ids:\n",
    "    start = time.time()   \n",
    "    inv.get_from_binary(i)     \n",
    "    end = time.time()  \n",
    "    diff = end - start\n",
    "    binary_retrival += diff \n",
    "print(\"Binary searching from a list took {} seconds\".format(binary_retrival))"
   ]
  },
  {
   "cell_type": "code",
   "execution_count": 12,
   "metadata": {},
   "outputs": [
    {
     "name": "stdout",
     "output_type": "stream",
     "text": [
      "Searching from a list took by iterating each element took 0.537306547164917 seconds\n"
     ]
    }
   ],
   "source": [
    "list_retrival = 0\n",
    "for i in ids:\n",
    "    start = time.time()   \n",
    "    inv.get_from_list(i)     \n",
    "    end = time.time()  \n",
    "    diff = end - start\n",
    "    list_retrival += diff \n",
    "print(\"Searching from a list took by iterating each element took {} seconds\".format(list_retrival))"
   ]
  },
  {
   "cell_type": "markdown",
   "metadata": {},
   "source": [
    "### Findings:\n",
    "\n",
    "As you can see, searching for an element in a sorted array was performed in two ways: Linear and Binary. Linear search was about 11 times slower than binary search. As we fetch more data, the binary search becomes even more faster.\n",
    "\n",
    "Also, I searched in a dictionary which gave me the fastest time execution O(1) - constant"
   ]
  },
  {
   "cell_type": "markdown",
   "metadata": {},
   "source": [
    "## Promotion gift card:\n",
    "\n",
    "Imagine you were given a gift card for $2500 and you can only use it once. In other words, you should look for a laptop or a combination of two laptops to spend 2500 dollars at once. \n",
    "Algorithms check_promotion_giftcard and check_promotion_giftcard_fast find either a laptop or a combination of two elements whose sum is equal to the target (given argument)\n",
    "* check_promo_from_list uses O(N^2) which becomes very slow as the data grows\n",
    "* check_promo_from_set uses O(N) which is relatively time efficient\n",
    "\n",
    "Both of the methods will give a boolean value if the target (gift card value) matches a laptop price or a combination of two (both distinct and unique) laptops "
   ]
  },
  {
   "cell_type": "code",
   "execution_count": 13,
   "metadata": {},
   "outputs": [],
   "source": [
    "## Creating random prices \n",
    "prices = [random.randint(100, 5000) for _ in range(100)]"
   ]
  },
  {
   "cell_type": "code",
   "execution_count": 14,
   "metadata": {},
   "outputs": [
    {
     "data": {
      "text/plain": [
       "True"
      ]
     },
     "execution_count": 14,
     "metadata": {},
     "output_type": "execute_result"
    }
   ],
   "source": [
    "## you were given a giftcard with 1000 dollars and you want to know if you can spend it at once \n",
    "## slower algorithm\n",
    "inv.check_promotion_giftcard(1000)"
   ]
  },
  {
   "cell_type": "code",
   "execution_count": 15,
   "metadata": {},
   "outputs": [
    {
     "data": {
      "text/plain": [
       "False"
      ]
     },
     "execution_count": 15,
     "metadata": {},
     "output_type": "execute_result"
    }
   ],
   "source": [
    "## you were given a giftcard with 335 dollars and you want to know if you can spend it at once \n",
    "## faster algorithm\n",
    "inv.check_promotion_giftcard(335)"
   ]
  },
  {
   "cell_type": "code",
   "execution_count": 16,
   "metadata": {},
   "outputs": [
    {
     "name": "stdout",
     "output_type": "stream",
     "text": [
      "Looking for an element or a set of elements from a list whose sum is equal to target value took \n",
      "0.6475365161895752 seconds\n"
     ]
    }
   ],
   "source": [
    "check_promo_from_list = 0\n",
    "for i in prices:\n",
    "    start = time.time()   \n",
    "    inv.check_promotion_giftcard(i)     \n",
    "    end = time.time()  \n",
    "    diff = end - start\n",
    "    check_promo_from_list += diff \n",
    "print('''Looking for an element or a set of elements from a list whose sum is equal to target value took \n",
    "{} seconds'''.format(check_promo_from_list))"
   ]
  },
  {
   "cell_type": "code",
   "execution_count": 17,
   "metadata": {},
   "outputs": [
    {
     "name": "stdout",
     "output_type": "stream",
     "text": [
      "Looking for an element or a set of elements from a set whose sum is equal to target value took \n",
      "0.0003380775451660156 seconds\n"
     ]
    }
   ],
   "source": [
    "check_promo_from_set = 0\n",
    "for i in prices:\n",
    "    start = time.time()   \n",
    "    inv.check_promotion_giftcard_fast(i)     \n",
    "    end = time.time()  \n",
    "    diff = end - start\n",
    "    check_promo_from_set += diff \n",
    "print('''Looking for an element or a set of elements from a set whose sum is equal to target value took \n",
    "{} seconds'''.format(check_promo_from_set))"
   ]
  },
  {
   "cell_type": "markdown",
   "metadata": {},
   "source": [
    "## Findings:\n",
    "\n",
    "As you can see, looking up an element from a set is done in a constant time (similar to dictionary) while list lookup is performed in linear time complexity. Even though set look up is O(1) I still had to compare the element from the second container which eventually turned to O(N) where as check_promo_from_list method turned to O(N^2)."
   ]
  },
  {
   "cell_type": "markdown",
   "metadata": {},
   "source": [
    "## THE END"
   ]
  }
 ],
 "metadata": {
  "kernelspec": {
   "display_name": "Python 3",
   "language": "python",
   "name": "python3"
  },
  "language_info": {
   "codemirror_mode": {
    "name": "ipython",
    "version": 3
   },
   "file_extension": ".py",
   "mimetype": "text/x-python",
   "name": "python",
   "nbconvert_exporter": "python",
   "pygments_lexer": "ipython3",
   "version": "3.8.5"
  }
 },
 "nbformat": 4,
 "nbformat_minor": 2
}
